{
 "cells": [
  {
   "cell_type": "code",
   "execution_count": 1,
   "metadata": {},
   "outputs": [
    {
     "ename": "ModuleNotFoundError",
     "evalue": "No module named 'pyttsx3'",
     "output_type": "error",
     "traceback": [
      "\u001b[1;31m---------------------------------------------------------------------------\u001b[0m",
      "\u001b[1;31mModuleNotFoundError\u001b[0m                       Traceback (most recent call last)",
      "Cell \u001b[1;32mIn[1], line 1\u001b[0m\n\u001b[1;32m----> 1\u001b[0m \u001b[38;5;28;01mimport\u001b[39;00m \u001b[38;5;21;01mpyttsx3\u001b[39;00m\n\u001b[0;32m      2\u001b[0m \u001b[38;5;28;01mimport\u001b[39;00m \u001b[38;5;21;01mpyjokes\u001b[39;00m\n\u001b[0;32m      3\u001b[0m \u001b[38;5;28;01mimport\u001b[39;00m \u001b[38;5;21;01myfinance\u001b[39;00m \u001b[38;5;28;01mas\u001b[39;00m \u001b[38;5;21;01myf\u001b[39;00m\n",
      "\u001b[1;31mModuleNotFoundError\u001b[0m: No module named 'pyttsx3'"
     ]
    }
   ],
   "source": [
    "import pyttsx3\n",
    "import pyjokes\n",
    "import yfinance as yf\n",
    "import os\n",
    "import pywhatkit\n",
    "import datetime\n",
    "import webbrowser\n",
    "import speech_recognition as sr\n",
    "import pyaudio"
   ]
  },
  {
   "cell_type": "code",
   "execution_count": null,
   "metadata": {},
   "outputs": [],
   "source": [
    "# Listen to our microphone and return the audio as text using google \n",
    "\n",
    "def transform():\n",
    "    r = sr.Recognizer()\n",
    "    with sr. Microphone() as source:\n",
    "        r.pause_threshold = 0.8\n",
    "        said =r.listen(source)\n",
    "        try:\n",
    "            print (\"I am listening\")\n",
    "            q = r.recognize_google(said, language=\"en\")\n",
    "            return q\n",
    "        except sr.UnknownValueError:\n",
    "            print(\"Sorry I did not understand\")\n",
    "            return \"I am waiting\"\n",
    "        except sr.RequestError: \n",
    "            print(\"Sorry the service is down\")\n",
    "            return \"I am waiting\"\n",
    "        except:\n",
    "            return(\"I am waiting\")\n"
   ]
  },
  {
   "cell_type": "code",
   "execution_count": null,
   "metadata": {},
   "outputs": [
    {
     "name": "stdout",
     "output_type": "stream",
     "text": [
      "I am listening\n",
      "Sorry I did not understand\n"
     ]
    },
    {
     "data": {
      "text/plain": [
       "'I am waiting'"
      ]
     },
     "execution_count": 3,
     "metadata": {},
     "output_type": "execute_result"
    }
   ],
   "source": [
    "transform()"
   ]
  },
  {
   "cell_type": "code",
   "execution_count": null,
   "metadata": {},
   "outputs": [],
   "source": [
    "def speaking(message):\n",
    "    engine = pyttsx3.init()\n",
    "    engine.say(message)\n",
    "    engine.runAndWait()"
   ]
  },
  {
   "cell_type": "code",
   "execution_count": null,
   "metadata": {},
   "outputs": [],
   "source": [
    "speaking(\"Hello World\")"
   ]
  },
  {
   "cell_type": "code",
   "execution_count": null,
   "metadata": {},
   "outputs": [
    {
     "name": "stdout",
     "output_type": "stream",
     "text": [
      "<Voice id=HKEY_LOCAL_MACHINE\\SOFTWARE\\Microsoft\\Speech\\Voices\\Tokens\\TTS_MS_DE-DE_HEDDA_11.0\n",
      "          name=Microsoft Hedda Desktop - German\n",
      "          languages=[]\n",
      "          gender=None\n",
      "          age=None>\n",
      "<Voice id=HKEY_LOCAL_MACHINE\\SOFTWARE\\Microsoft\\Speech\\Voices\\Tokens\\TTS_MS_EN-GB_HAZEL_11.0\n",
      "          name=Microsoft Hazel Desktop - English (Great Britain)\n",
      "          languages=[]\n",
      "          gender=None\n",
      "          age=None>\n",
      "<Voice id=HKEY_LOCAL_MACHINE\\SOFTWARE\\Microsoft\\Speech\\Voices\\Tokens\\TTS_MS_EN-US_ZIRA_11.0\n",
      "          name=Microsoft Zira Desktop - English (United States)\n",
      "          languages=[]\n",
      "          gender=None\n",
      "          age=None>\n"
     ]
    }
   ],
   "source": [
    "engine = pyttsx3.init()\n",
    "for voice in engine.getProperty('voices'):\n",
    "    print(voice)"
   ]
  },
  {
   "cell_type": "code",
   "execution_count": null,
   "metadata": {},
   "outputs": [],
   "source": [
    "id = 'HKEY_LOCAL_MACHINE\\SOFTWARE\\Microsoft\\Speech\\Voices\\Tokens\\TTS_MS_EN-US_ZIRA_11.0'\n",
    "engine.setProperty('voice',id)\n",
    "engine.say('Hello my name is Valentina')\n",
    "engine.runAndWait()"
   ]
  },
  {
   "cell_type": "code",
   "execution_count": null,
   "metadata": {},
   "outputs": [],
   "source": [
    "def query_day():\n",
    "    day = datetime.date.today()\n",
    "    print(day)\n",
    "    weekday = day.weekday()\n",
    "    print(weekday)\n",
    "    mapping = {\n",
    "        0: 'Monday', 1: 'Thuesday', 2:'Wednesday', 3:'Thursday', 4:'Friday', 6:'Saturday', 7:'Sunday'\n",
    "    }\n",
    "    try:\n",
    "        speaking(f'Today is: {mapping[weekday]}')\n",
    "    except:\n",
    "        pass"
   ]
  },
  {
   "cell_type": "code",
   "execution_count": null,
   "metadata": {},
   "outputs": [
    {
     "name": "stdout",
     "output_type": "stream",
     "text": [
      "2021-10-17\n",
      "6\n"
     ]
    }
   ],
   "source": [
    "query_day()"
   ]
  },
  {
   "cell_type": "code",
   "execution_count": null,
   "metadata": {},
   "outputs": [],
   "source": [
    "def query_time():\n",
    "    time = datetime.datetime.now().strftime(\"%I:%M:%S\")\n",
    "    speaking(f\"{time[0:2]} o'clock and {time[3:5]} minutes\")\n",
    "    speaking(time)"
   ]
  },
  {
   "cell_type": "code",
   "execution_count": null,
   "metadata": {},
   "outputs": [],
   "source": [
    "query_time()"
   ]
  },
  {
   "cell_type": "code",
   "execution_count": null,
   "metadata": {},
   "outputs": [],
   "source": [
    "#Intro greeting at startup\n",
    "def whatsup():\n",
    "    speaking('''Hi, my name is Valentina. i am your personal assistent. how may I help you\n",
    "    ''')"
   ]
  },
  {
   "cell_type": "code",
   "execution_count": null,
   "metadata": {},
   "outputs": [],
   "source": [
    "whatsup()"
   ]
  },
  {
   "cell_type": "code",
   "execution_count": null,
   "metadata": {},
   "outputs": [],
   "source": [
    "def querying():\n",
    "    whatsup()\n",
    "    start = True\n",
    "    while(start):\n",
    "        q = transform().lower()\n",
    "        \n",
    "        if 'start youtube' in q:\n",
    "            speaking('starting youtube. Just a second')\n",
    "            webbrowser.open('https://www.youtube.com')\n",
    "            continue\n",
    "            \n",
    "        elif 'start webbrowser' in q:\n",
    "            speaking('opening browser')\n",
    "            webbrowser.open('https://www.google.com')\n",
    "            continue\n",
    "            \n",
    "        elif 'what day is it' in q:\n",
    "            query_day()\n",
    "            continue\n",
    "            \n",
    "        elif 'what time is it' in q:\n",
    "            query_time()\n",
    "            continue\n",
    "                \n",
    "        elif \"shutdown\" in q:\n",
    "            speaking('ok I am shutting down')\n",
    "            break\n",
    "        \n",
    "        elif \"from wikipedia\" in q:\n",
    "            speaking('checking wikipedia')\n",
    "            q = q.replace('wikipedia','')\n",
    "            result = wikipedia.summary(q,sentences = 2)\n",
    "            speaking('founds on wikipedia')\n",
    "            speaking(result)\n",
    "            \n",
    "        elif \"your name\" in q:\n",
    "            speaking('I am Valentina. Your Va')\n",
    "            continue\n",
    "            \n",
    "        elif \"search web\" in q:\n",
    "            pywhatkit.search(q)\n",
    "            speaking('that is what i found')\n",
    "            continue\n",
    "            \n",
    "        elif \"play\" in q:\n",
    "            speaking(f'playing {q}')\n",
    "            pywhatkit.playonyt(q)\n",
    "            continue\n",
    "            \n",
    "        elif \"joke\" in q:\n",
    "            speaking(pyjokes.get_joke())\n",
    "            continue\n",
    "        \n",
    "        elif \"stock price\" in q:\n",
    "            search = q.split(\"of\")[-1].strip()\n",
    "            loopup = {'apple':'AAPL',\n",
    "                     'amazon': 'AMZN',\n",
    "                     'google': 'GOOGL',}\n",
    "            try:\n",
    "                stock = lookup[search]\n",
    "                stock = yf.Ticker(stock)\n",
    "                currentprice = stock.info[\"regularMarketPrice\"]\n",
    "                speaking(f'found it, the price for {search} is {current}')\n",
    "            \n",
    "            except:\n",
    "                speaking(f'sorry I have no date for {search}')\n",
    "            continue"
   ]
  },
  {
   "cell_type": "code",
   "execution_count": null,
   "metadata": {},
   "outputs": [
    {
     "name": "stdout",
     "output_type": "stream",
     "text": [
      "I am listening\n",
      "Sorry I did not understand\n",
      "I am listening\n",
      "Sorry I did not understand\n",
      "I am listening\n",
      "I am listening\n",
      "I am listening\n",
      "I am listening\n",
      "Sorry I did not understand\n",
      "I am listening\n"
     ]
    },
    {
     "ename": "NameError",
     "evalue": "name 'wikipedia' is not defined",
     "output_type": "error",
     "traceback": [
      "\u001b[1;31m---------------------------------------------------------------------------\u001b[0m",
      "\u001b[1;31mNameError\u001b[0m                                 Traceback (most recent call last)",
      "\u001b[1;32m~\\AppData\\Local\\Temp/ipykernel_21756/369148338.py\u001b[0m in \u001b[0;36m<module>\u001b[1;34m\u001b[0m\n\u001b[1;32m----> 1\u001b[1;33m \u001b[0mquerying\u001b[0m\u001b[1;33m(\u001b[0m\u001b[1;33m)\u001b[0m\u001b[1;33m\u001b[0m\u001b[1;33m\u001b[0m\u001b[0m\n\u001b[0m",
      "\u001b[1;32m~\\AppData\\Local\\Temp/ipykernel_21756/1595240996.py\u001b[0m in \u001b[0;36mquerying\u001b[1;34m()\u001b[0m\n\u001b[0;32m     30\u001b[0m             \u001b[0mspeaking\u001b[0m\u001b[1;33m(\u001b[0m\u001b[1;34m'checking wikipedia'\u001b[0m\u001b[1;33m)\u001b[0m\u001b[1;33m\u001b[0m\u001b[1;33m\u001b[0m\u001b[0m\n\u001b[0;32m     31\u001b[0m             \u001b[0mq\u001b[0m \u001b[1;33m=\u001b[0m \u001b[0mq\u001b[0m\u001b[1;33m.\u001b[0m\u001b[0mreplace\u001b[0m\u001b[1;33m(\u001b[0m\u001b[1;34m'wikipedia'\u001b[0m\u001b[1;33m,\u001b[0m\u001b[1;34m''\u001b[0m\u001b[1;33m)\u001b[0m\u001b[1;33m\u001b[0m\u001b[1;33m\u001b[0m\u001b[0m\n\u001b[1;32m---> 32\u001b[1;33m             \u001b[0mresult\u001b[0m \u001b[1;33m=\u001b[0m \u001b[0mwikipedia\u001b[0m\u001b[1;33m.\u001b[0m\u001b[0msummary\u001b[0m\u001b[1;33m(\u001b[0m\u001b[0mq\u001b[0m\u001b[1;33m,\u001b[0m\u001b[0msentences\u001b[0m \u001b[1;33m=\u001b[0m \u001b[1;36m2\u001b[0m\u001b[1;33m)\u001b[0m\u001b[1;33m\u001b[0m\u001b[1;33m\u001b[0m\u001b[0m\n\u001b[0m\u001b[0;32m     33\u001b[0m             \u001b[0mspeaking\u001b[0m\u001b[1;33m(\u001b[0m\u001b[1;34m'founds on wikipedia'\u001b[0m\u001b[1;33m)\u001b[0m\u001b[1;33m\u001b[0m\u001b[1;33m\u001b[0m\u001b[0m\n\u001b[0;32m     34\u001b[0m             \u001b[0mspeaking\u001b[0m\u001b[1;33m(\u001b[0m\u001b[0mresult\u001b[0m\u001b[1;33m)\u001b[0m\u001b[1;33m\u001b[0m\u001b[1;33m\u001b[0m\u001b[0m\n",
      "\u001b[1;31mNameError\u001b[0m: name 'wikipedia' is not defined"
     ]
    }
   ],
   "source": [
    "querying()"
   ]
  },
  {
   "cell_type": "code",
   "execution_count": null,
   "metadata": {},
   "outputs": [],
   "source": []
  },
  {
   "cell_type": "code",
   "execution_count": null,
   "metadata": {},
   "outputs": [],
   "source": []
  },
  {
   "cell_type": "code",
   "execution_count": null,
   "metadata": {},
   "outputs": [],
   "source": []
  }
 ],
 "metadata": {
  "kernelspec": {
   "display_name": "base",
   "language": "python",
   "name": "python3"
  },
  "language_info": {
   "codemirror_mode": {
    "name": "ipython",
    "version": 3
   },
   "file_extension": ".py",
   "mimetype": "text/x-python",
   "name": "python",
   "nbconvert_exporter": "python",
   "pygments_lexer": "ipython3",
   "version": "3.11.7"
  }
 },
 "nbformat": 4,
 "nbformat_minor": 2
}
